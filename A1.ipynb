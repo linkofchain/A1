{
 "cells": [
  {
   "cell_type": "markdown",
   "metadata": {},
   "source": [
    "# Imports"
   ]
  },
  {
   "cell_type": "code",
   "execution_count": 1,
   "metadata": {},
   "outputs": [],
   "source": [
    "import os\n",
    "import tarfile\n",
    "import jdc      #for class handling in jupyter\n",
    "import numpy as np"
   ]
  },
  {
   "cell_type": "markdown",
   "metadata": {},
   "source": [
    "# Part1"
   ]
  },
  {
   "cell_type": "code",
   "execution_count": 2,
   "metadata": {},
   "outputs": [],
   "source": [
    "#!wget -N http://www.cs.cornell.edu/people/pabo/movie-review-data/review_polarity.tar.gz"
   ]
  },
  {
   "cell_type": "code",
   "execution_count": 3,
   "metadata": {},
   "outputs": [],
   "source": [
    "def read_tar():\n",
    "    # open file \n",
    "    review_file = tarfile.open('review_polarity.tar.gz') \n",
    "  \n",
    "    # extracting file \n",
    "    review_file.extractall('.') \n",
    "  \n",
    "    review_file.close() "
   ]
  },
  {
   "cell_type": "code",
   "execution_count": 4,
   "metadata": {},
   "outputs": [],
   "source": [
    "\"\"\"_summary_\n",
    "grab data from directory paths and lists\n",
    "\"\"\"\n",
    "def get_data(dir_list, dir_path, review_polarity):\n",
    "  words = set()\n",
    "  reviews = []\n",
    "  sentiment = []\n",
    "  \n",
    "  for file_name in dir_list:\n",
    "      if isinstance(file_name, str):\n",
    "          f = open(os.path.join(dir_path, file_name),'r')\n",
    "          review = f.read()\n",
    "          reviews.append(review)\n",
    "          words = words|set(review.split()) \n",
    "          sentiment.append(review_polarity)\n",
    "          f.close()\n",
    "  return np.array(reviews), np.array(sentiment), words"
   ]
  },
  {
   "cell_type": "code",
   "execution_count": 5,
   "metadata": {},
   "outputs": [],
   "source": [
    "index_dict = {} #dictionary of words:index in bag of words vector\n",
    "#read_tar()\n",
    "neg_path = 'txt_sentoken/neg'\n",
    "pos_path = 'txt_sentoken/pos'\n",
    "neg_files = os.listdir(neg_path)\n",
    "pos_files = os.listdir(pos_path)\n",
    "\n",
    "neg_rev, neg_sent, neg_words = get_data(neg_files, neg_path, -1)\n",
    "pos_rev, pos_sent, pos_words = get_data(pos_files, pos_path, 1)\n",
    "#form word bag, X_raw, and prediction sets\n",
    "words = neg_words|pos_words\n",
    "X_raw = np.concatenate((neg_rev,pos_rev),axis=0)\n",
    "y = np.concatenate((neg_sent,pos_sent),axis=0)\n",
    "sorted_words = sorted(words)"
   ]
  },
  {
   "cell_type": "code",
   "execution_count": 6,
   "metadata": {},
   "outputs": [],
   "source": [
    "#shuffles both predictions and raw data with same permutation.\n",
    "def shuffle(data, labels):\n",
    "    p = np.random.permutation(len(data))\n",
    "    return data[p], labels[p], p"
   ]
  },
  {
   "cell_type": "code",
   "execution_count": 7,
   "metadata": {},
   "outputs": [],
   "source": [
    "X_shuffled, y_shuffled, p = shuffle(X_raw, y)"
   ]
  },
  {
   "cell_type": "code",
   "execution_count": 8,
   "metadata": {},
   "outputs": [
    {
     "name": "stdout",
     "output_type": "stream",
     "text": [
      "[1816 1990 1752  240  598 1714  798  397] [ 1  1  1 -1 -1  1 -1 -1] [ 1  1  1 -1 -1  1 -1 -1]\n",
      "[ True  True  True  True  True  True  True  True]\n"
     ]
    }
   ],
   "source": [
    "print(p[:8],y_shuffled[:8], y[p[:8]]) #could just be asserts i guess\n",
    "print(X_shuffled[:8] == X_raw[p[:8]])"
   ]
  },
  {
   "cell_type": "code",
   "execution_count": 9,
   "metadata": {},
   "outputs": [
    {
     "name": "stdout",
     "output_type": "stream",
     "text": [
      "the androm\n"
     ]
    }
   ],
   "source": [
    "print(X_shuffled[0][:10])"
   ]
  },
  {
   "cell_type": "code",
   "execution_count": 10,
   "metadata": {},
   "outputs": [
    {
     "data": {
      "text/plain": [
       "(2000,)"
      ]
     },
     "execution_count": 10,
     "metadata": {},
     "output_type": "execute_result"
    }
   ],
   "source": [
    "X_shuffled.shape"
   ]
  },
  {
   "cell_type": "markdown",
   "metadata": {},
   "source": [
    "dimensions look good! now to move onto implementing BOW"
   ]
  },
  {
   "cell_type": "markdown",
   "metadata": {},
   "source": [
    "# Part2\n"
   ]
  },
  {
   "cell_type": "code",
   "execution_count": 11,
   "metadata": {},
   "outputs": [],
   "source": [
    "\"\"\"_summary_\n",
    "transform x into a sparse BoW array. implementation part 2\n",
    "\"\"\"\n",
    "class Vectorizer:\n",
    "  def __init__(self, sorted_vocab, tokenizer = 'none'):\n",
    "    self.tokenizer = tokenizer\n",
    "    self.index_dict = dict()\n",
    "    for i, word in enumerate(sorted_vocab):\n",
    "      self.index_dict[word] = i\n",
    "  \n",
    "  def transform(self, data):\n",
    "    sparse_data = []\n",
    "    for review in data:\n",
    "      review_list = review.split()              #replace with tokenizer if needed\n",
    "      sparse_review = np.zeros(len(self.index_dict))\n",
    "      for word in review_list:\n",
    "          sparse_review[self.index_dict[word]] = 1\n",
    "      sparse_data.append(sparse_review)\n",
    "            \n",
    "    assert len(data) == len(sparse_data)        #is the output array the same length as input?\n",
    "    assert sum(sparse_data[0]) != 0             #do these sparse arrays contain anything?\n",
    "    \n",
    "    return np.array(sparse_data)"
   ]
  },
  {
   "cell_type": "code",
   "execution_count": 12,
   "metadata": {},
   "outputs": [],
   "source": [
    "victor = Vectorizer(sorted_words)"
   ]
  },
  {
   "cell_type": "code",
   "execution_count": 13,
   "metadata": {},
   "outputs": [
    {
     "name": "stdout",
     "output_type": "stream",
     "text": [
      "'dolphin' is represented as feature dimension 13868\n",
      "'the' is represented as feature dimension 45372\n",
      "'coffee' is represented as feature dimension 9677\n"
     ]
    }
   ],
   "source": [
    "index_dict = dict()\n",
    "for i, word in enumerate(sorted_words):\n",
    "  index_dict[word] = i\n",
    "\n",
    "for word in ['dolphin', 'the', 'coffee']:\n",
    "  if word in sorted_words:\n",
    "    print(\"'%s' is represented as feature dimension %i\" %(word, index_dict[word]))\n",
    "  else:\n",
    "    print(\"'%s' is not in the vocabulary\" % word)"
   ]
  },
  {
   "cell_type": "code",
   "execution_count": 14,
   "metadata": {},
   "outputs": [],
   "source": [
    "X_BOW = victor.transform(X_shuffled)            #output should be bag of words rep of sentence"
   ]
  },
  {
   "cell_type": "code",
   "execution_count": 15,
   "metadata": {},
   "outputs": [
    {
     "data": {
      "text/plain": [
       "array([[0., 0., 0., ..., 0., 0., 0.],\n",
       "       [0., 0., 0., ..., 0., 0., 0.],\n",
       "       [0., 0., 0., ..., 0., 0., 0.],\n",
       "       ...,\n",
       "       [0., 0., 0., ..., 0., 0., 0.],\n",
       "       [0., 0., 0., ..., 0., 0., 0.],\n",
       "       [0., 0., 0., ..., 0., 0., 0.]])"
      ]
     },
     "execution_count": 15,
     "metadata": {},
     "output_type": "execute_result"
    }
   ],
   "source": [
    "X_BOW[:10]"
   ]
  },
  {
   "cell_type": "code",
   "execution_count": 16,
   "metadata": {},
   "outputs": [
    {
     "data": {
      "text/plain": [
       "(2000, 50920)"
      ]
     },
     "execution_count": 16,
     "metadata": {},
     "output_type": "execute_result"
    }
   ],
   "source": [
    "X_BOW.shape"
   ]
  },
  {
   "cell_type": "markdown",
   "metadata": {},
   "source": [
    "# Part3\n",
    "**Implementation task:** You should implement your versions of the following parts (you can also find this in the slides):"
   ]
  },
  {
   "cell_type": "code",
   "execution_count": 19,
   "metadata": {},
   "outputs": [],
   "source": [
    "class model:\n",
    "  def __init__(self, eta0 = 0.001, loss = 'hinge', alpha = .0001, learning_rate = \"constant\", penalty = 'L2', random_state = 'none',\n",
    "               tol = 5):\n",
    "    \n",
    "    self.loss = loss  #hinge loss default probably won't try others\n",
    "    self.loss_history = []\n",
    "    self.lr, self.eta0 = eta0, eta0  #starting learning rate\n",
    "    self.alpha = alpha #regularization dampener\n",
    "    self.learning_rate = learning_rate  #constant learning rate or schedule?\n",
    "    self.penalty = penalty #penalty for hinge loss probably won't play with this\n",
    "    self.tol = tol  #tolerance of learning rate scheduler if i ever get around to implementing that\n",
    "    self.n_max_iterations = 1000\n",
    "    \n",
    "  def fit(self, X, y):\n",
    "    \"\"\"Does the training. X is a matrix with one data point per row, while y is flat.\"\"\"\n",
    "    self.weights = np.random.normal(loc=0,scale=.5,size=X.shape[1])\n",
    "    \n",
    "    self.weight_history = [self.weights.copy()]\n",
    "    best_score = self.score(X,y)\n",
    "    self.loss_history = [best_score]\n",
    "    iter_wo_improve = 0\n",
    "    \n",
    "    for i in range(self.n_max_iterations):\n",
    "      self._fit(X,y)\n",
    "      if best_score-.001 < self.loss_history[-1]: #if the new theta isn't better than last, then increment iter_wo_improve.\n",
    "        iter_wo_improve += 1\n",
    "      else:\n",
    "        best_score = self.loss_history[-1]\n",
    "        iter_wo_improve = 0\n",
    "      if iter_wo_improve >= self.tol: #stop criterion\n",
    "        return self.weight_history[-iter_wo_improve], self.loss_history[-iter_wo_improve] , i\n",
    "      \n",
    "    return self.weight_history[-1], self.loss_history[-1] , i #if max iterations is reached\n",
    "      \n",
    "  \"\"\"gradient descent\n",
    "  calculate vector of greatest slope and mod weights.\"\"\"\n",
    "  def _fit(self, X, y):\n",
    "    #dot = X.dot(self.weights)\n",
    "    #mult = X*self.weights\n",
    "    #cond = np.sign(mult==y)\n",
    "    #fred_sum = np.sum(np.sign(X.dot(self.weights))==y[:,np.newaxis],axis=0) #fredrick's suggestion. I don't quite get this.\n",
    "    #my version: for each review, sum -y_i*X_i if 1-y_i*w.dot(X_i)<0 \n",
    "    #sign is 1 if y*X.dot(w) < 1, so if we axe everything 1 or above with max, \n",
    "    grad_per_review = -y*X*np.sign(np.maximum(0,1-y*X.dot(self.weights)))\n",
    "    grad_sum = np.sum(grad_per_review,axis=0)   #sum across reviews for aggregate weight gradients\n",
    "    \"\"\"\n",
    "    grad_sum_me = np.zeros_like(self.weights)\n",
    "    for sentiment, review in zip(y,X):\n",
    "      for i in range(len(review)):\n",
    "        if sentiment*self.weights[i]*review[i]<1:\n",
    "          grad_sum_me[i] -= review[i]*sentiment\n",
    "    so slow to do it this way, but drastically different results\n",
    "    \"\"\" \n",
    "    gradient = self.alpha*self.weights + grad_sum\n",
    "    \n",
    "    self.weights -= self.lr*gradient\n",
    "    \n",
    "    self.loss_history.append(self.score(X,y))\n",
    "    self.weight_history.append(self.weights.copy())\n",
    "    \n",
    "  \"\"\"hyperplane\"\"\"\n",
    "  def predict(self, X):\n",
    "    sgns = np.sign(X.dot(self.weights))  #signs for testing visibility\n",
    "    return np.sign(X.dot(self.weights))\n",
    "\n",
    "  #def _soft_predict(self, X):\n",
    "  #  pred = X*self.weights\n",
    "  #  return pred\n",
    "  \n",
    "  \"\"\"hinge loss. output loss vector for... weights or reviews?\"\"\"\n",
    "  def score(self, X, y):\n",
    "    norm_term = self.alpha/2*np.linalg.norm(self.weights)**2\n",
    "    #sum_term = np.sum(np.maximum(0,1-self.weights*X*y[:,np.newaxis],),axis=0)\n",
    "    sum_term = np.sum(np.maximum(0,1-y*X.dot(self.weights))) #sum across reviews\n",
    "    return norm_term + sum_term\n",
    "  "
   ]
  },
  {
   "cell_type": "code",
   "execution_count": 20,
   "metadata": {},
   "outputs": [
    {
     "ename": "",
     "evalue": "",
     "output_type": "error",
     "traceback": [
      "\u001b[1;31mThe Kernel crashed while executing code in the current cell or a previous cell. \n",
      "\u001b[1;31mPlease review the code in the cell(s) to identify a possible cause of the failure. \n",
      "\u001b[1;31mClick <a href='https://aka.ms/vscodeJupyterKernelCrash'>here</a> for more info. \n",
      "\u001b[1;31mView Jupyter <a href='command:jupyter.viewOutput'>log</a> for further details."
     ]
    }
   ],
   "source": [
    "reguliser_dampening = 0.0001   # lambda\n",
    "learning_rate = 0.00001         # gamma\n",
    "X_BOW_intc = np.concatenate((np.ones_like(y)[:,np.newaxis],X_BOW),axis=1) #intercept array\n",
    "\n",
    "# Create the untrained classifier\n",
    "classy = model(loss='hinge', penalty='l2',\n",
    "                      alpha=reguliser_dampening,\n",
    "                      learning_rate='constant', eta0=learning_rate)\n",
    "\n",
    "# Train the classifier\n",
    "best_weight, best_loss, iter = classy.fit(X_BOW_intc, y_shuffled)\n",
    "\n",
    "# Get the parameter vector\n",
    "omega = best_weight"
   ]
  },
  {
   "cell_type": "code",
   "execution_count": 20,
   "metadata": {},
   "outputs": [
    {
     "name": "stdout",
     "output_type": "stream",
     "text": [
      "(2000,) (2000, 50921) (50921,)\n"
     ]
    }
   ],
   "source": [
    "why = y_shuffled.copy()\n",
    "eks = X_BOW_intc.copy()\n",
    "w8s = np.random.normal(loc=0,scale=.5,size=eks.shape[1])\n",
    "print(why.shape, eks.shape, w8s.shape)"
   ]
  },
  {
   "cell_type": "code",
   "execution_count": 39,
   "metadata": {},
   "outputs": [
    {
     "data": {
      "text/plain": [
       "array([ 4.74848057,  0.52249964,  0.        , ...,  0.        ,\n",
       "       27.82395574,  0.        ])"
      ]
     },
     "execution_count": 39,
     "metadata": {},
     "output_type": "execute_result"
    }
   ],
   "source": [
    "np.maximum(0,1-y*eks.dot(w8s))"
   ]
  },
  {
   "cell_type": "code",
   "execution_count": 40,
   "metadata": {},
   "outputs": [
    {
     "data": {
      "text/plain": [
       "7710.9113084460905"
      ]
     },
     "execution_count": 40,
     "metadata": {},
     "output_type": "execute_result"
    }
   ],
   "source": [
    "np.sum(np.maximum(0,1-y*eks.dot(w8s)))"
   ]
  },
  {
   "cell_type": "code",
   "execution_count": 184,
   "metadata": {},
   "outputs": [
    {
     "data": {
      "text/plain": [
       "0.501"
      ]
     },
     "execution_count": 184,
     "metadata": {},
     "output_type": "execute_result"
    }
   ],
   "source": [
    "training_accuracy = np.sum(classy.predict(X_BOW_intc)==y_shuffled)/len(y_shuffled)\n",
    "training_accuracy"
   ]
  },
  {
   "cell_type": "code",
   "execution_count": 185,
   "metadata": {},
   "outputs": [
    {
     "data": {
      "image/png": "[encoded data removed]",
      "text/plain": [
       "<Figure size 2000x300 with 1 Axes>"
      ]
     },
     "metadata": {},
     "output_type": "display_data"
    }
   ],
   "source": [
    "import matplotlib.pyplot as plt\n",
    " \n",
    "plt.figure(figsize=(20, 3))\n",
    "plt.plot(np.random.normal(loc=0,scale=.5,size=eks.shape[1]))\n",
    "plt.xlabel(\"Value\")\n",
    "plt.xlabel(\"Weights\")\n",
    "plt.show()"
   ]
  },
  {
   "cell_type": "code",
   "execution_count": 187,
   "metadata": {},
   "outputs": [
    {
     "data": {
      "image/png": "[encoded data removed]",
      "text/plain": [
       "<Figure size 2000x300 with 1 Axes>"
      ]
     },
     "metadata": {},
     "output_type": "display_data"
    }
   ],
   "source": [
    "plt.figure(figsize=(20, 3))\n",
    "plt.plot(classy.loss_history)\n",
    "plt.ylabel(\"loss\")\n",
    "plt.xlabel(\"iterations\")\n",
    "plt.show()"
   ]
  },
  {
   "cell_type": "code",
   "execution_count": 24,
   "metadata": {},
   "outputs": [
    {
     "name": "stdout",
     "output_type": "stream",
     "text": [
      "                Word   Weight  Occurences\n",
      "                   (   -1.793\t1900 \n",
      "                  on   -1.805\t2000 \n",
      "                than   -1.810\t1389 \n",
      "               looks   -1.814\t364 \n",
      "               would   -1.853\t1189 \n",
      "                  by   -1.859\t1815 \n",
      "                 out   -1.868\t1925 \n",
      "              script   -1.872\t632 \n",
      "                then   -1.913\t892 \n",
      "                 why   -1.914\t586 \n",
      "                even   -1.964\t1521 \n",
      "                have   -2.008\t1658 \n",
      "             there's   -2.049\t617 \n",
      "                when   -2.168\t1459 \n",
      "            director   -2.296\t962 \n",
      "                  if   -2.347\t1872 \n",
      "                  no   -2.360\t1985 \n",
      "                only   -2.464\t1311 \n",
      "                   ?   -2.742\t1228 \n",
      "                 bad   -3.337\t825 \n"
     ]
    }
   ],
   "source": [
    "assert (len(omega)-1) == len(sorted_words)\n",
    "\n",
    "# Sort by absolute value\n",
    "idx = np.argsort(np.abs(omega[1:]))\n",
    "\n",
    "print(\"                Word   Weight  Occurences\")\n",
    "for i in idx[-20:]:   # Pick those with highest 'voting' values\n",
    "  print(\"%20s   %.3f\\t%i \" % (sorted_words[i], omega[i+1], np.sum([sorted_words[i] in d for d in X_raw])))"
   ]
  },
  {
   "cell_type": "markdown",
   "metadata": {},
   "source": [
    "# Part4\n",
    "**Implementation task:** Implement code for printing a sorted table of your sampled hyperparameters. Note, you do not have to reimplement the grid search."
   ]
  },
  {
   "cell_type": "code",
   "execution_count": null,
   "metadata": {},
   "outputs": [],
   "source": [
    "#split training and test data 80:20. they're already shuffled so just slice em.\n",
    "proportion = .8\n",
    "\n",
    "X_train = X_BOW_intc[:len(X_BOW_intc)*proportion]\n",
    "X_test = X_BOW_intc[len(X_BOW_intc)*proportion:]\n",
    "\n",
    "y_train = y_shuffled[:len(y)*proportion]\n",
    "X_test = y_shuffled[len(y)*proportion:]"
   ]
  },
  {
   "cell_type": "code",
   "execution_count": null,
   "metadata": {},
   "outputs": [
    {
     "name": "stdout",
     "output_type": "stream",
     "text": [
      "Learning rate:\tReg.dampening:\tTraining set accuracy:\n",
      "0.30353\t\t0.30353\t\t54.1%\n",
      "0.00031\t\t0.00031\t\t95.8%\n",
      "0.09655\t\t0.09655\t\t64.5%\n",
      "0.30353\t\t0.09655\t\t65.4%\n",
      "0.00031\t\t0.00311\t\t95.8%\n",
      "0.00099\t\t3.00000\t\t84.5%\n",
      "0.00311\t\t3.00000\t\t53.9%\n",
      "0.00311\t\t0.03071\t\t94.9%\n",
      "0.00311\t\t0.09655\t\t86.9%\n",
      "0.00031\t\t0.30353\t\t85.9%\n",
      "Best parameters: 0.00031, 0.00031\n"
     ]
    }
   ],
   "source": [
    "from sklearn.model_selection import ParameterSampler\n",
    "\n",
    "# Define the parameters\n",
    "parameter_distribution = {'learning_rate': np.exp(np.linspace(np.log(0.0001), np.log(3), 10)),\n",
    "                          'reguliser_dampening': np.exp(np.linspace(np.log(0.0001), np.log(3), 10))}\n",
    "\n",
    "# Placeholder to make future comparissons easier\n",
    "best_hyperparameters = None\n",
    "print(\"Learning rate:\\tReg.dampening:\\tTraining set accuracy:\")\n",
    "\n",
    "for hyperparameters in ParameterSampler(parameter_distribution, n_iter=10):\n",
    "  # Set up the classifier\n",
    "  reguliser_dampening = hyperparameters['reguliser_dampening']\n",
    "  learning_rate = hyperparameters['learning_rate']\n",
    "  model = model(loss='hinge', penalty='l2',\n",
    "                        alpha=reguliser_dampening,\n",
    "                        learning_rate='constant', eta0=learning_rate)\n",
    "\n",
    "  # Train the classifier\n",
    "  model.fit(X_train, y_train)\n",
    "\n",
    "  # Calculate the training accuracy    \n",
    "  training_accuracy = np.sum(model.predict(X_train)==y_train)/len(y_train)\n",
    "\n",
    "  # Store the hyperparameters if they are better than what we have found before\n",
    "  if best_hyperparameters is None or best_hyperparameters[1] < training_accuracy:\n",
    "    best_hyperparameters = (hyperparameters, training_accuracy)\n",
    "  print(\"%.5f\\t\\t%.5f\\t\\t%.1f%%\" % (hyperparameters['learning_rate'], hyperparameters['reguliser_dampening'], 100*training_accuracy))\n",
    "\n",
    "best_learning_rate = best_hyperparameters[0]['learning_rate']\n",
    "best_reguliser_dampening = best_hyperparameters[0]['reguliser_dampening']\n",
    "print(\"Best parameters: %.5f, %.5f\" % (best_learning_rate, best_reguliser_dampening))"
   ]
  }
 ],
 "metadata": {
  "kernelspec": {
   "display_name": "Python 3",
   "language": "python",
   "name": "python3"
  },
  "language_info": {
   "codemirror_mode": {
    "name": "ipython",
    "version": 3
   },
   "file_extension": ".py",
   "mimetype": "text/x-python",
   "name": "python",
   "nbconvert_exporter": "python",
   "pygments_lexer": "ipython3",
   "version": "3.11.2"
  }
 },
 "nbformat": 4,
 "nbformat_minor": 2
}
