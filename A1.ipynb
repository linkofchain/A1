{
 "cells": [
  {
   "cell_type": "markdown",
   "metadata": {},
   "source": [
    "# Imports"
   ]
  },
  {
   "cell_type": "code",
   "execution_count": 1,
   "metadata": {},
   "outputs": [],
   "source": [
    "import os\n",
    "import tarfile\n",
    "import jdc      #for class handling in jupyter\n",
    "import numpy as np"
   ]
  },
  {
   "cell_type": "markdown",
   "metadata": {},
   "source": [
    "# Part1"
   ]
  },
  {
   "cell_type": "code",
   "execution_count": 2,
   "metadata": {},
   "outputs": [],
   "source": [
    "#!wget -N http://www.cs.cornell.edu/people/pabo/movie-review-data/review_polarity.tar.gz"
   ]
  },
  {
   "cell_type": "code",
   "execution_count": 3,
   "metadata": {},
   "outputs": [],
   "source": [
    "def read_tar():\n",
    "    # open file \n",
    "    review_file = tarfile.open('review_polarity.tar.gz') \n",
    "  \n",
    "    # extracting file \n",
    "    review_file.extractall('.') \n",
    "  \n",
    "    review_file.close() "
   ]
  },
  {
   "cell_type": "code",
   "execution_count": 4,
   "metadata": {},
   "outputs": [],
   "source": [
    "\"\"\"_summary_\n",
    "grab data from directory paths and lists\n",
    "\"\"\"\n",
    "def get_data(dir_list, dir_path, review_polarity):\n",
    "  words = set()\n",
    "  reviews = []\n",
    "  sentiment = []\n",
    "  \n",
    "  for file_name in dir_list:\n",
    "      if isinstance(file_name, str):\n",
    "          f = open(os.path.join(dir_path, file_name),'r')\n",
    "          review = f.read()\n",
    "          reviews.append(review)\n",
    "          words = words|set(review.split()) \n",
    "          sentiment.append(review_polarity)\n",
    "          f.close()\n",
    "  return np.array(reviews), np.array(sentiment), words"
   ]
  },
  {
   "cell_type": "code",
   "execution_count": 5,
   "metadata": {},
   "outputs": [],
   "source": [
    "index_dict = {} #dictionary of words:index in bag of words vector\n",
    "#read_tar()\n",
    "neg_path = 'txt_sentoken/neg'\n",
    "pos_path = 'txt_sentoken/pos'\n",
    "neg_files = os.listdir(neg_path)\n",
    "pos_files = os.listdir(pos_path)\n",
    "\n",
    "neg_rev, neg_sent, neg_words = get_data(neg_files, neg_path, -1)\n",
    "pos_rev, pos_sent, pos_words = get_data(pos_files, pos_path, 1)\n",
    "#form word bag, X_raw, and prediction sets\n",
    "words = neg_words|pos_words\n",
    "X_raw = np.concatenate((neg_rev,pos_rev),axis=0)\n",
    "y_raw = np.concatenate((neg_sent,pos_sent),axis=0)\n",
    "sorted_words = sorted(words)"
   ]
  },
  {
   "cell_type": "code",
   "execution_count": 6,
   "metadata": {},
   "outputs": [],
   "source": [
    "#shuffles both predictions and raw data with same permutation.\n",
    "def shuffle(data, labels):\n",
    "    p = np.random.permutation(len(data))\n",
    "    return data[p], labels[p], p"
   ]
  },
  {
   "cell_type": "code",
   "execution_count": 7,
   "metadata": {},
   "outputs": [],
   "source": [
    "X_shuffled, y_shuffled, p = shuffle(X_raw, y_raw)"
   ]
  },
  {
   "cell_type": "code",
   "execution_count": 8,
   "metadata": {},
   "outputs": [
    {
     "name": "stdout",
     "output_type": "stream",
     "text": [
      "[ 278  173  328  463 1541  401  113 1813] [-1 -1 -1 -1  1 -1 -1  1] [-1 -1 -1 -1  1 -1 -1  1]\n",
      "[ True  True  True  True  True  True  True  True]\n"
     ]
    }
   ],
   "source": [
    "print(p[:8],y_shuffled[:8], y_raw[p[:8]]) #could just be asserts i guess\n",
    "print(X_shuffled[:8] == X_raw[p[:8]])"
   ]
  },
  {
   "cell_type": "code",
   "execution_count": 9,
   "metadata": {},
   "outputs": [
    {
     "name": "stdout",
     "output_type": "stream",
     "text": [
      "keep cool \n"
     ]
    }
   ],
   "source": [
    "print(X_shuffled[0][:10])"
   ]
  },
  {
   "cell_type": "code",
   "execution_count": 10,
   "metadata": {},
   "outputs": [
    {
     "data": {
      "text/plain": [
       "(2000,)"
      ]
     },
     "execution_count": 10,
     "metadata": {},
     "output_type": "execute_result"
    }
   ],
   "source": [
    "X_shuffled.shape"
   ]
  },
  {
   "cell_type": "markdown",
   "metadata": {},
   "source": [
    "dimensions look good! now to move onto implementing BOW"
   ]
  },
  {
   "cell_type": "markdown",
   "metadata": {},
   "source": [
    "# Part2\n"
   ]
  },
  {
   "cell_type": "code",
   "execution_count": 11,
   "metadata": {},
   "outputs": [],
   "source": [
    "\"\"\"_summary_\n",
    "transform x into a sparse BoW array. implementation part 2\n",
    "\"\"\"\n",
    "class Vectorizer:\n",
    "  def __init__(self, sorted_vocab, tokenizer = 'none'):\n",
    "    self.tokenizer = tokenizer\n",
    "    self.index_dict = dict()\n",
    "    for i, word in enumerate(sorted_vocab):\n",
    "      self.index_dict[word] = i\n",
    "  \n",
    "  def transform(self, data):\n",
    "    sparse_data = []\n",
    "    for review in data:\n",
    "      review_list = review.split()              #replace with tokenizer if needed\n",
    "      sparse_review = np.zeros(len(self.index_dict))\n",
    "      for word in review_list:\n",
    "          sparse_review[self.index_dict[word]] = 1\n",
    "      sparse_data.append(sparse_review)\n",
    "            \n",
    "    assert len(data) == len(sparse_data)        #is the output array the same length as input?\n",
    "    assert sum(sparse_data[0]) != 0             #do these sparse arrays contain anything?\n",
    "    \n",
    "    return np.array(sparse_data)"
   ]
  },
  {
   "cell_type": "code",
   "execution_count": 12,
   "metadata": {},
   "outputs": [],
   "source": [
    "victor = Vectorizer(sorted_words)"
   ]
  },
  {
   "cell_type": "code",
   "execution_count": 13,
   "metadata": {},
   "outputs": [
    {
     "name": "stdout",
     "output_type": "stream",
     "text": [
      "'dolphin' is represented as feature dimension 13868\n",
      "'the' is represented as feature dimension 45372\n",
      "'coffee' is represented as feature dimension 9677\n"
     ]
    }
   ],
   "source": [
    "index_dict = dict()\n",
    "for i, word in enumerate(sorted_words):\n",
    "  index_dict[word] = i\n",
    "\n",
    "for word in ['dolphin', 'the', 'coffee']:\n",
    "  if word in sorted_words:\n",
    "    print(\"'%s' is represented as feature dimension %i\" %(word, index_dict[word]))\n",
    "  else:\n",
    "    print(\"'%s' is not in the vocabulary\" % word)"
   ]
  },
  {
   "cell_type": "code",
   "execution_count": 14,
   "metadata": {},
   "outputs": [],
   "source": [
    "X_BOW = victor.transform(X_shuffled)            #output should be bag of words rep of sentence"
   ]
  },
  {
   "cell_type": "code",
   "execution_count": 15,
   "metadata": {},
   "outputs": [
    {
     "data": {
      "text/plain": [
       "array([[0., 0., 0., ..., 0., 0., 0.],\n",
       "       [0., 0., 0., ..., 0., 0., 0.],\n",
       "       [0., 0., 0., ..., 0., 0., 0.],\n",
       "       ...,\n",
       "       [0., 0., 0., ..., 0., 0., 0.],\n",
       "       [0., 0., 0., ..., 0., 0., 0.],\n",
       "       [0., 0., 0., ..., 0., 0., 0.]])"
      ]
     },
     "execution_count": 15,
     "metadata": {},
     "output_type": "execute_result"
    }
   ],
   "source": [
    "X_BOW[:10]"
   ]
  },
  {
   "cell_type": "code",
   "execution_count": 16,
   "metadata": {},
   "outputs": [
    {
     "data": {
      "text/plain": [
       "(2000, 50920)"
      ]
     },
     "execution_count": 16,
     "metadata": {},
     "output_type": "execute_result"
    }
   ],
   "source": [
    "X_BOW.shape"
   ]
  },
  {
   "cell_type": "markdown",
   "metadata": {},
   "source": [
    "# Part3\n",
    "**Implementation task:** You should implement your versions of the following parts (you can also find this in the slides):"
   ]
  },
  {
   "cell_type": "code",
   "execution_count": 59,
   "metadata": {},
   "outputs": [],
   "source": [
    "class model:\n",
    "  def __init__(self, eta0 = 0.001, loss = 'hinge', alpha = .0001, learning_rate = \"constant\", penalty = 'L2', random_state = 'none',\n",
    "               tol = 5, early_stop = False):\n",
    "    \n",
    "    self.loss = loss  #hinge loss default probably won't try others\n",
    "    self.loss_history = []\n",
    "    self.lr, self.eta0 = eta0, eta0  #starting learning rate\n",
    "    self.alpha = alpha #regularization dampener\n",
    "    self.learning_rate = learning_rate  #constant learning rate or schedule?\n",
    "    self.penalty = penalty #penalty for hinge loss probably won't play with this\n",
    "    self.tol = tol  \n",
    "    self.n_max_iterations = 400\n",
    "    self.early_stop = early_stop\n",
    "    \n",
    "  def fit(self, X, y):\n",
    "    \"\"\"Does the training. X is a matrix with one data point per row, while y is flat.\"\"\"\n",
    "    self.weights = np.random.normal(loc=0,scale=.5,size=X.shape[1])\n",
    "    \n",
    "    self.weight_history = [self.weights.copy()]\n",
    "    self.loss_history = [self.score(X,y)]\n",
    "    iter_wo_improve = 0\n",
    "    \n",
    "    for i in range(self.n_max_iterations):\n",
    "      self._fit(X,y)\n",
    "      if len(self.loss_history)>1 and self.loss_history[-2]-.001 < self.loss_history[-1]:\n",
    "        iter_wo_improve += 1  #using best instead of last entry meant i had to have insanely high tolerances and rollback if the loss jumped in the beginning, so we aren't doing that.\n",
    "      else:\n",
    "        iter_wo_improve = 0\n",
    "      if iter_wo_improve >= self.tol: #stop criterion\n",
    "        if self.early_stop == False:\n",
    "          break\n",
    "        else:\n",
    "          self.weights = self.weight_history[-iter_wo_improve] # early stop & rollback. useful if we have val set, maybe nothing I need here.\n",
    "          return self.weight_history[-iter_wo_improve], self.loss_history[-iter_wo_improve] , i\n",
    "      \n",
    "    return self.weight_history[-1], self.loss_history[-1] , i \n",
    "      \n",
    "  \"\"\"gradient descent\n",
    "  calculate vector of greatest slope and mod weights.\"\"\"\n",
    "  def _fit(self, X, y):\n",
    "    sign_term = np.sign(np.maximum(0,1-y*X.dot(self.weights)))[:,np.newaxis]\n",
    "    grad_per_review = -y[:,np.newaxis]*X*sign_term\n",
    "    grad_sum = np.sum(grad_per_review,axis=0)   #sum across reviews for aggregate weight gradients\n",
    "\n",
    "    gradient = self.alpha*self.weights + grad_sum\n",
    "    \n",
    "    self.weights -= self.lr*gradient\n",
    "    \n",
    "    self.loss_history.append(self.score(X,y))\n",
    "    self.weight_history.append(self.weights.copy())\n",
    "    \n",
    "  \"\"\"hyperplane\"\"\"\n",
    "  def predict(self, X):\n",
    "    return np.sign(X.dot(self.weights))\n",
    "  \n",
    "  \"\"\"hinge loss. output loss vector for... weights or reviews?\"\"\"\n",
    "  def score(self, X, y):\n",
    "    norm_term = self.alpha/2*np.linalg.norm(self.weights)**2\n",
    "    sum_term = np.sum(np.maximum(0,1-y*X.dot(self.weights))) #sum across reviews\n",
    "    return norm_term + sum_term\n",
    "  "
   ]
  },
  {
   "cell_type": "code",
   "execution_count": 60,
   "metadata": {},
   "outputs": [],
   "source": [
    "reguliser_dampening = 0.001   # lambda\n",
    "learning_rate = 0.001         # gamma\n",
    "X_BOW_intc = np.concatenate((np.ones_like(y_shuffled)[:,np.newaxis],X_BOW),axis=1) #intercept array\n",
    "\n",
    "# Create the untrained classifier\n",
    "classy = model(loss='hinge', penalty='l2',\n",
    "                      alpha=reguliser_dampening,\n",
    "                      learning_rate='constant', eta0=learning_rate)\n",
    "\n",
    "# Train the classifier\n",
    "best_weight, best_loss, iter = classy.fit(X_BOW_intc, y_shuffled)\n",
    "\n",
    "# Get the parameter vector\n",
    "omega = best_weight"
   ]
  },
  {
   "cell_type": "code",
   "execution_count": 61,
   "metadata": {},
   "outputs": [
    {
     "data": {
      "text/plain": [
       "0.888"
      ]
     },
     "execution_count": 61,
     "metadata": {},
     "output_type": "execute_result"
    }
   ],
   "source": [
    "training_accuracy = np.sum(classy.predict(X_BOW_intc)==y_shuffled)/len(y_shuffled)\n",
    "training_accuracy"
   ]
  },
  {
   "cell_type": "code",
   "execution_count": 62,
   "metadata": {},
   "outputs": [
    {
     "data": {
      "text/plain": [
       "70"
      ]
     },
     "execution_count": 62,
     "metadata": {},
     "output_type": "execute_result"
    }
   ],
   "source": [
    "iter"
   ]
  },
  {
   "cell_type": "code",
   "execution_count": 63,
   "metadata": {},
   "outputs": [
    {
     "data": {
      "image/png": "[encoded data removed]",
      "text/plain": [
       "<Figure size 2000x300 with 1 Axes>"
      ]
     },
     "metadata": {},
     "output_type": "display_data"
    }
   ],
   "source": [
    "import matplotlib.pyplot as plt\n",
    " \n",
    "plt.figure(figsize=(20, 3))\n",
    "plt.plot(np.random.normal(loc=0,scale=.5,size=X_BOW.shape[1]))\n",
    "plt.xlabel(\"Value\")\n",
    "plt.xlabel(\"Weights\")\n",
    "plt.show()"
   ]
  },
  {
   "cell_type": "code",
   "execution_count": 64,
   "metadata": {},
   "outputs": [
    {
     "data": {
      "image/png": "[encoded data removed]",
      "text/plain": [
       "<Figure size 2000x300 with 1 Axes>"
      ]
     },
     "metadata": {},
     "output_type": "display_data"
    }
   ],
   "source": [
    "plt.figure(figsize=(20, 3))\n",
    "plt.plot(classy.loss_history)\n",
    "plt.ylabel(\"loss\")\n",
    "plt.xlabel(\"iterations\")\n",
    "plt.show()"
   ]
  },
  {
   "cell_type": "code",
   "execution_count": 65,
   "metadata": {},
   "outputs": [
    {
     "name": "stdout",
     "output_type": "stream",
     "text": [
      "                Word   Weight  Occurences\n",
      "            terrific   2.140\t104 \n",
      "                view   2.158\t842 \n",
      "              begins   2.174\t321 \n",
      "              moving   2.273\t174 \n",
      "                also   2.289\t1071 \n",
      "              stupid   -2.344\t227 \n",
      "             nothing   -2.344\t594 \n",
      "           perfectly   2.352\t146 \n",
      "                very   2.489\t1552 \n",
      "        surprisingly   2.500\t185 \n",
      "       unfortunately   -2.523\t329 \n",
      "           different   2.601\t370 \n",
      "              boring   -2.630\t229 \n",
      "              script   -2.707\t632 \n",
      "                 job   2.752\t480 \n",
      "             perfect   2.760\t403 \n",
      "            supposed   -2.767\t321 \n",
      "                plot   -2.826\t1002 \n",
      "               worst   -3.513\t238 \n",
      "                 bad   -4.510\t825 \n"
     ]
    }
   ],
   "source": [
    "assert (len(omega)-1) == len(sorted_words)\n",
    "\n",
    "# Sort by absolute value\n",
    "idx = np.argsort(np.abs(omega[1:]))\n",
    "\n",
    "print(\"                Word   Weight  Occurences\")\n",
    "for i in idx[-20:]:   # Pick those with highest 'voting' values\n",
    "  print(\"%20s   %.3f\\t%i \" % (sorted_words[i], omega[i+1], np.sum([sorted_words[i] in d for d in X_raw])))"
   ]
  },
  {
   "cell_type": "markdown",
   "metadata": {},
   "source": [
    "cool beans"
   ]
  },
  {
   "cell_type": "markdown",
   "metadata": {},
   "source": [
    "# Part4\n",
    "**Implementation task:** Implement code for printing a sorted table of your sampled hyperparameters. Note, you do not have to reimplement the grid search."
   ]
  },
  {
   "cell_type": "code",
   "execution_count": 68,
   "metadata": {},
   "outputs": [],
   "source": [
    "#split training and test data 80:20. they're already shuffled so just slice em.\n",
    "proportion = .8\n",
    "split_point = int(len(X_BOW_intc)*proportion)\n",
    "\n",
    "X_train = X_BOW_intc[:split_point]\n",
    "X_test = X_BOW_intc[split_point:]\n",
    "\n",
    "y_train = y_shuffled[:split_point]\n",
    "y_test = y_shuffled[split_point:]"
   ]
  },
  {
   "cell_type": "code",
   "execution_count": 70,
   "metadata": {},
   "outputs": [
    {
     "name": "stdout",
     "output_type": "stream",
     "text": [
      "Learning rate:\tReg.dampening:\tTraining set accuracy:\n",
      "0.00010\t\t0.00010\t\t92.8%\n",
      "0.00010\t\t0.00031\t\t93.9%\n",
      "0.00010\t\t0.00099\t\t94.7%\n",
      "0.00010\t\t0.00311\t\t94.2%\n",
      "0.00010\t\t0.00977\t\t94.1%\n",
      "0.00010\t\t0.03071\t\t94.9%\n",
      "0.00010\t\t0.09655\t\t95.8%\n",
      "0.00010\t\t0.30353\t\t95.6%\n",
      "0.00010\t\t0.95425\t\t94.2%\n",
      "0.00010\t\t3.00000\t\t95.6%\n",
      "0.00031\t\t0.00010\t\t55.3%\n",
      "0.00031\t\t0.00031\t\t74.3%\n",
      "0.00031\t\t0.00099\t\t58.2%\n",
      "0.00031\t\t0.00311\t\t90.8%\n",
      "0.00031\t\t0.00977\t\t79.2%\n",
      "0.00031\t\t0.03071\t\t55.4%\n",
      "0.00031\t\t0.09655\t\t57.3%\n",
      "0.00031\t\t0.30353\t\t89.3%\n",
      "0.00031\t\t0.95425\t\t76.4%\n",
      "0.00031\t\t3.00000\t\t86.1%\n",
      "0.00099\t\t0.00010\t\t88.6%\n",
      "0.00099\t\t0.00031\t\t100.0%\n",
      "0.00099\t\t0.00099\t\t76.3%\n",
      "0.00099\t\t0.00311\t\t100.0%\n",
      "0.00099\t\t0.00977\t\t88.4%\n",
      "0.00099\t\t0.03071\t\t100.0%\n",
      "0.00099\t\t0.09655\t\t89.4%\n",
      "0.00099\t\t0.30353\t\t100.0%\n",
      "0.00099\t\t0.95425\t\t89.6%\n",
      "0.00099\t\t3.00000\t\t75.4%\n",
      "0.00311\t\t0.00010\t\t100.0%\n",
      "0.00311\t\t0.00031\t\t100.0%\n",
      "0.00311\t\t0.00099\t\t100.0%\n",
      "0.00311\t\t0.00311\t\t100.0%\n",
      "0.00311\t\t0.00977\t\t100.0%\n",
      "0.00311\t\t0.03071\t\t100.0%\n",
      "0.00311\t\t0.09655\t\t100.0%\n",
      "0.00311\t\t0.30353\t\t100.0%\n",
      "0.00311\t\t0.95425\t\t92.7%\n",
      "0.00311\t\t3.00000\t\t49.9%\n",
      "0.00977\t\t0.00010\t\t100.0%\n",
      "0.00977\t\t0.00031\t\t100.0%\n",
      "0.00977\t\t0.00099\t\t100.0%\n",
      "0.00977\t\t0.00311\t\t100.0%\n",
      "0.00977\t\t0.00977\t\t100.0%\n",
      "0.00977\t\t0.03071\t\t100.0%\n",
      "0.00977\t\t0.09655\t\t100.0%\n",
      "0.00977\t\t0.30353\t\t86.6%\n",
      "0.00977\t\t0.95425\t\t51.0%\n",
      "0.00977\t\t3.00000\t\t52.0%\n",
      "0.03071\t\t0.00010\t\t100.0%\n",
      "0.03071\t\t0.00031\t\t100.0%\n",
      "0.03071\t\t0.00099\t\t100.0%\n",
      "0.03071\t\t0.00311\t\t100.0%\n",
      "0.03071\t\t0.00977\t\t100.0%\n",
      "0.03071\t\t0.03071\t\t100.0%\n",
      "0.03071\t\t0.09655\t\t100.0%\n",
      "0.03071\t\t0.30353\t\t100.0%\n",
      "0.03071\t\t0.95425\t\t51.7%\n",
      "0.03071\t\t3.00000\t\t50.1%\n",
      "0.09655\t\t0.00010\t\t100.0%\n",
      "0.09655\t\t0.00031\t\t100.0%\n",
      "0.09655\t\t0.00099\t\t100.0%\n",
      "0.09655\t\t0.00311\t\t100.0%\n",
      "0.09655\t\t0.00977\t\t100.0%\n",
      "0.09655\t\t0.03071\t\t100.0%\n",
      "0.09655\t\t0.09655\t\t99.9%\n",
      "0.09655\t\t0.30353\t\t52.1%\n",
      "0.09655\t\t0.95425\t\t50.1%\n",
      "0.09655\t\t3.00000\t\t50.1%\n",
      "0.30353\t\t0.00010\t\t100.0%\n",
      "0.30353\t\t0.00031\t\t100.0%\n",
      "0.30353\t\t0.00099\t\t100.0%\n",
      "0.30353\t\t0.00311\t\t100.0%\n",
      "0.30353\t\t0.00977\t\t100.0%\n",
      "0.30353\t\t0.03071\t\t65.8%\n",
      "0.30353\t\t0.09655\t\t52.0%\n",
      "0.30353\t\t0.30353\t\t49.9%\n",
      "0.30353\t\t0.95425\t\t49.9%\n",
      "0.30353\t\t3.00000\t\t49.9%\n",
      "0.95425\t\t0.00010\t\t100.0%\n",
      "0.95425\t\t0.00031\t\t100.0%\n",
      "0.95425\t\t0.00099\t\t100.0%\n",
      "0.95425\t\t0.00311\t\t100.0%\n",
      "0.95425\t\t0.00977\t\t100.0%\n",
      "0.95425\t\t0.03071\t\t52.1%\n",
      "0.95425\t\t0.09655\t\t49.9%\n",
      "0.95425\t\t0.30353\t\t50.1%\n",
      "0.95425\t\t0.95425\t\t50.1%\n",
      "0.95425\t\t3.00000\t\t49.9%\n",
      "3.00000\t\t0.00010\t\t100.0%\n",
      "3.00000\t\t0.00031\t\t100.0%\n",
      "3.00000\t\t0.00099\t\t100.0%\n",
      "3.00000\t\t0.00311\t\t94.7%\n",
      "3.00000\t\t0.00977\t\t51.8%\n",
      "3.00000\t\t0.03071\t\t50.1%\n",
      "3.00000\t\t0.09655\t\t49.9%\n",
      "3.00000\t\t0.30353\t\t50.1%\n",
      "3.00000\t\t0.95425\t\t49.9%\n",
      "3.00000\t\t3.00000\t\t49.9%\n",
      "Best parameters: 0.00099, 0.00031\n"
     ]
    }
   ],
   "source": [
    "#Hyperparameter search\n",
    "parameter_distribution = {'learning_rate': np.exp(np.linspace(np.log(0.0001), np.log(3), 10)),\n",
    "                          'reguliser_dampening': np.exp(np.linspace(np.log(0.0001), np.log(3), 10))}\n",
    "best_model = None\n",
    "\n",
    "print(\"Learning rate:\\tReg.dampening:\\tTraining set accuracy:\")\n",
    "\n",
    "for lr in parameter_distribution['learning_rate']:\n",
    "    for reg in parameter_distribution['reguliser_dampening']:\n",
    "        classy = model(loss='hinge', penalty='l2',\n",
    "                      alpha=reg,\n",
    "                      learning_rate='constant', eta0=lr)\n",
    "        \n",
    "        weight, loss, iter = classy.fit(X_train,y_train)\n",
    "        training_accuracy = np.sum(classy.predict(X_train)==y_train)/len(y_train)\n",
    "\n",
    "        if best_model is None or best_model[1] < training_accuracy:\n",
    "            best_model = ((lr,reg), training_accuracy, weight, classy.weight_history[iter-5])\n",
    "        print(\"%.5f\\t\\t%.5f\\t\\t%.1f%%\" % (lr, reg, 100*training_accuracy))\n",
    "\n",
    "best_lr = best_model[0][0]\n",
    "best_reg = best_model[0][1]\n",
    "print(\"Best parameters: %.5f, %.5f\" % (best_lr, best_reg))"
   ]
  },
  {
   "cell_type": "markdown",
   "metadata": {},
   "source": [
    "# Final evaluation"
   ]
  },
  {
   "cell_type": "code",
   "execution_count": 79,
   "metadata": {},
   "outputs": [
    {
     "name": "stdout",
     "output_type": "stream",
     "text": [
      "Low param test set accuracy 83.0%\n",
      "Early Stop test set accuracy 82.0%\n"
     ]
    }
   ],
   "source": [
    "# Set up the classifier\n",
    "classiest = classy  #yes I know this isn't a copy\n",
    "classiest.weights = best_model[2]\n",
    "# Run prediction on the test set\n",
    "test_accuracy = np.sum(classiest.predict(X_test)==y_test)/len(y_test)\n",
    "\n",
    "#reset weights to earliest point when performance was best\n",
    "classiest.weights = best_model[3]\n",
    "test_accuracy_early = np.sum(classiest.predict(X_test)==y_test)/len(y_test)\n",
    "\n",
    "print(\"Low param test set accuracy %.1f%%\" % (100*test_accuracy))\n",
    "print(\"Early Stop test set accuracy %.1f%%\" % (100*test_accuracy_early))\n"
   ]
  },
  {
   "cell_type": "code",
   "execution_count": 82,
   "metadata": {},
   "outputs": [
    {
     "name": "stdout",
     "output_type": "stream",
     "text": [
      "High param test set accuracy 85.2%\n",
      "Early Stop test set accuracy 82.0%\n"
     ]
    }
   ],
   "source": [
    "#since I forgot to provide a way to save the other weights i wanted to test, we'll just retrain\n",
    "#3.00000\t0.00031 stable high learning rate, alpha\n",
    "more_classiest = model(loss='hinge', penalty='l2',\n",
    "                      alpha=0.00031,\n",
    "                      learning_rate='constant', eta0=3)\n",
    "\n",
    "# Train on all the non-test data\n",
    "more_classiest.fit(X_train, y_train)\n",
    "\n",
    "# Run prediction on the test set\n",
    "test_accuracy = np.sum(more_classiest.predict(X_test)==y_test)/len(y_test)\n",
    "\n",
    "#reset weights to earliest point when performance was best\n",
    "classiest.weights = best_model[3]\n",
    "test_accuracy_early = np.sum(classiest.predict(X_test)==y_test)/len(y_test)\n",
    "\n",
    "print(\"High param test set accuracy %.1f%%\" % (100*test_accuracy))\n",
    "print(\"Early Stop test set accuracy %.1f%%\" % (100*test_accuracy_early))"
   ]
  }
 ],
 "metadata": {
  "kernelspec": {
   "display_name": "Python 3",
   "language": "python",
   "name": "python3"
  },
  "language_info": {
   "codemirror_mode": {
    "name": "ipython",
    "version": 3
   },
   "file_extension": ".py",
   "mimetype": "text/x-python",
   "name": "python",
   "nbconvert_exporter": "python",
   "pygments_lexer": "ipython3",
   "version": "3.10.12"
  }
 },
 "nbformat": 4,
 "nbformat_minor": 2
}
